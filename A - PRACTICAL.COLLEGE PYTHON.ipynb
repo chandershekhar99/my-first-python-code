{
 "cells": [
  {
   "cell_type": "code",
   "execution_count": 2,
   "id": "95864545",
   "metadata": {},
   "outputs": [
    {
     "name": "stdout",
     "output_type": "stream",
     "text": [
      "hello shekhar\n"
     ]
    }
   ],
   "source": [
    "a=\"Hello shekhar\"\n",
    "print(a.lower())"
   ]
  },
  {
   "cell_type": "code",
   "execution_count": 3,
   "id": "6e9f75b8",
   "metadata": {},
   "outputs": [
    {
     "name": "stdout",
     "output_type": "stream",
     "text": [
      "2\n"
     ]
    }
   ],
   "source": [
    "a=\"hello shelkar,hello bhai\"\n",
    "print(a.count(\"hello\"))"
   ]
  },
  {
   "cell_type": "code",
   "execution_count": 4,
   "id": "37fe9a9b",
   "metadata": {},
   "outputs": [
    {
     "name": "stdout",
     "output_type": "stream",
     "text": [
      "hello friends\n"
     ]
    }
   ],
   "source": [
    "a=\"hello friends\"\n",
    "print(a.replace(\"frinds\",\"world\"))"
   ]
  },
  {
   "cell_type": "markdown",
   "id": "50c16cbb",
   "metadata": {},
   "source": [
    "2.write instrutions to perform each of the steps below,"
   ]
  },
  {
   "cell_type": "markdown",
   "id": "6e3528e2",
   "metadata": {},
   "source": [
    "(a)Create a string containing at least five words store it in a variable.\n",
    "(b)Print out the string.\n",
    "(c)Cover the string to a list of word using the string spilt method.\n",
    "(d)Sort the list into reverse alphabetical order using some of the list metods\n",
    "(e)Print out the sorted, reversed list of words."
   ]
  },
  {
   "cell_type": "code",
   "execution_count": 1,
   "id": "696394df",
   "metadata": {},
   "outputs": [
    {
     "name": "stdout",
     "output_type": "stream",
     "text": [
      "Avinash,Rakesh,Shiva,Raj\n"
     ]
    }
   ],
   "source": [
    "a=\"Avinash,Rakesh,Shiva,Raj\"\n",
    "print(a)"
   ]
  },
  {
   "cell_type": "code",
   "execution_count": 2,
   "id": "81d984cf",
   "metadata": {},
   "outputs": [
    {
     "name": "stdout",
     "output_type": "stream",
     "text": [
      "['Avinash', 'Rakesh', 'Shiva', 'Raj']\n"
     ]
    }
   ],
   "source": [
    "b=a.split(\",\")\n",
    "print(b)"
   ]
  },
  {
   "cell_type": "code",
   "execution_count": 3,
   "id": "cd7998c2",
   "metadata": {},
   "outputs": [
    {
     "name": "stdout",
     "output_type": "stream",
     "text": [
      "['Shiva', 'Rakesh', 'Raj', 'Avinash']\n"
     ]
    }
   ],
   "source": [
    "b.sort(reverse=True)\n",
    "print(b)"
   ]
  },
  {
   "cell_type": "markdown",
   "id": "8918851f",
   "metadata": {},
   "source": [
    "3.Wap to program that determines whether the number is prime"
   ]
  },
  {
   "cell_type": "code",
   "execution_count": 4,
   "id": "98027a65",
   "metadata": {},
   "outputs": [
    {
     "name": "stdout",
     "output_type": "stream",
     "text": [
      "enter a number12\n",
      "12  is not a prime no\n"
     ]
    }
   ],
   "source": [
    "n=int(input(\"enter a number\"))\n",
    "r=2\n",
    "while(r<n):\n",
    "    if(n%r)==0:\n",
    "        print(n,\" is not a prime no\")\n",
    "        break;\n",
    "        r=r+1\n",
    "        if(n==r):\n",
    "            print(n,\"is a prime no\")"
   ]
  },
  {
   "cell_type": "markdown",
   "id": "ebd0ea35",
   "metadata": {},
   "source": [
    "4.Find all num  which are multiple of 17, but not the multiple of 5,between 2000 and 2500,"
   ]
  },
  {
   "cell_type": "code",
   "execution_count": 5,
   "id": "69c33650",
   "metadata": {},
   "outputs": [
    {
     "name": "stdout",
     "output_type": "stream",
     "text": [
      "2006\n",
      "2023\n",
      "2057\n",
      "2074\n",
      "2091\n",
      "2108\n",
      "2142\n",
      "2159\n",
      "2176\n",
      "2193\n",
      "2227\n",
      "2244\n",
      "2261\n",
      "2278\n",
      "2312\n",
      "2329\n",
      "2346\n",
      "2363\n",
      "2397\n",
      "2414\n",
      "2431\n",
      "2448\n",
      "2482\n",
      "2499\n"
     ]
    }
   ],
   "source": [
    "for i in range(2000,2500):\n",
    "    if(i%17==0)and(not(i%5==0)):\n",
    "        print(i)"
   ]
  },
  {
   "cell_type": "code",
   "execution_count": 8,
   "id": "3774dbef",
   "metadata": {},
   "outputs": [
    {
     "name": "stdout",
     "output_type": "stream",
     "text": [
      "Enter 1st value=12\n",
      "Enter 2nd value=43\n",
      "swapped value of a= 43\n",
      "swapped value of b= 43\n"
     ]
    }
   ],
   "source": [
    "a=int(input(\"Enter 1st value=\"))\n",
    "b=int(input(\"Enter 2nd value=\"))\n",
    "a=b\n",
    "b=a\n",
    "print(\"swapped value of a=\",a)\n",
    "print(\"swapped value of b=\",b)\n"
   ]
  },
  {
   "cell_type": "code",
   "execution_count": 2,
   "id": "674c7baf",
   "metadata": {},
   "outputs": [
    {
     "name": "stdout",
     "output_type": "stream",
     "text": [
      "select opration\n",
      "1.add\n",
      "2.subtract\n",
      "3.multiply\n",
      "4.divide\n",
      "Enter choice(1/2/3/4):1\n",
      "Enter first number=23\n",
      "Enter second number=34\n",
      "23 + 34 = 57\n"
     ]
    }
   ],
   "source": [
    "def add(x,y):\n",
    "    return x+y\n",
    "def subtract(x,y):\n",
    "    return x-y\n",
    "de  f multiply(x,y):\n",
    "    return x*y\n",
    "def divide(x,y):\n",
    "    return x/y\n",
    "print(\"select opration\")\n",
    "print(\"1.add\")\n",
    "print(\"2.subtract\")\n",
    "print(\"3.multiply\")\n",
    "print(\"4.divide\")\n",
    "choice=input(\"Enter choice(1/2/3/4):\")\n",
    "num1=int(input(\"Enter first number=\"))\n",
    "num2=int(input(\"Enter second number=\"))\n",
    "if choice=='1':\n",
    "    print(num1,\"+\",num2,\"=\",add(num1,num2))\n",
    "elif choice=='2':\n",
    "    print(num1,\"-\",num2,\"=\",subtract(num1,num2))\n",
    "elif choice=='3':\n",
    "    print(num1,\"*\",num2,\"=\",multiply(num1,num2))\n",
    "elif choice=='4':\n",
    "    print(num1,\"/\",num2,\"=\",divide(num1,num2))\n",
    "else:\n",
    "    print(\"invailid input\")"
   ]
  },
  {
   "cell_type": "code",
   "execution_count": null,
   "id": "53b67343",
   "metadata": {},
   "outputs": [],
   "source": [
    "def"
   ]
  },
  {
   "cell_type": "code",
   "execution_count": null,
   "id": "700af574",
   "metadata": {},
   "outputs": [],
   "source": []
  }
 ],
 "metadata": {
  "kernelspec": {
   "display_name": "Python 3 (ipykernel)",
   "language": "python",
   "name": "python3"
  },
  "language_info": {
   "codemirror_mode": {
    "name": "ipython",
    "version": 3
   },
   "file_extension": ".py",
   "mimetype": "text/x-python",
   "name": "python",
   "nbconvert_exporter": "python",
   "pygments_lexer": "ipython3",
   "version": "3.9.13"
  }
 },
 "nbformat": 4,
 "nbformat_minor": 5
}
