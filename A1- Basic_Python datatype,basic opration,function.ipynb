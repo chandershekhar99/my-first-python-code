{
 "cells": [
  {
   "cell_type": "markdown",
   "id": "c55deafe",
   "metadata": {},
   "source": [
    "BASIC PYTHON"
   ]
  },
  {
   "cell_type": "markdown",
   "id": "f3bdfdf7",
   "metadata": {},
   "source": [
    "VARIABLE=\n",
    "In programming and computer science, a variable is a symbolic name or identifier associated with a value or a memory location where data is stored. Variables play a crucial role in computer programs as they allow developers to store and manipulate data dynamically during the execution of the program.\n",
    "\n",
    "Here are some key aspects of variables:\n",
    "\n",
    "Name: A variable has a name that uniquely identifies it within the scope of a program. The name is used to refer to the stored data.\n",
    "\n",
    "Value: A variable holds a value, which can be of various types such as numbers, strings, boolean values, or more complex data structures like arrays or objects.\n",
    "\n",
    "Memory Location: In lower-level programming languages, a variable is associated with a specific memory location where its value is stored. In higher-level languages like Python, the details of memory management are abstracted away from the programmer.\n",
    "\n",
    "Type: Variables have a data type that defines the kind of data they can store. For example, integer variables can store whole numbers, and string variables can store sequences of characters.\n",
    "\n",
    "Scope: The scope of a variable refers to the region of the code where the variable is accessible. Variables can be local to a specific function or block of code, or they can have global scope, making them accessible throughout the entire program.\n",
    "\n"
   ]
  },
  {
   "cell_type": "code",
   "execution_count": 2,
   "id": "9791834a",
   "metadata": {},
   "outputs": [
    {
     "name": "stdout",
     "output_type": "stream",
     "text": [
      "hello world\n"
     ]
    }
   ],
   "source": [
    "print(\"hello world\")"
   ]
  },
  {
   "cell_type": "code",
   "execution_count": 3,
   "id": "4c79aedc",
   "metadata": {},
   "outputs": [
    {
     "name": "stdout",
     "output_type": "stream",
     "text": [
      "hello bhai\n"
     ]
    }
   ],
   "source": [
    "print('hello bhai')"
   ]
  },
  {
   "cell_type": "code",
   "execution_count": 4,
   "id": "ba34cac4",
   "metadata": {},
   "outputs": [
    {
     "name": "stdout",
     "output_type": "stream",
     "text": [
      "995.6\n"
     ]
    }
   ],
   "source": [
    "rent=455\n",
    "gas=235\n",
    "grocerise=305.6\n",
    "total=rent+gas+grocerise\n",
    "print(total)"
   ]
  },
  {
   "cell_type": "code",
   "execution_count": 5,
   "id": "41a692f0",
   "metadata": {},
   "outputs": [
    {
     "name": "stdout",
     "output_type": "stream",
     "text": [
      "expense items: rent gas grocerise\n"
     ]
    }
   ],
   "source": [
    "item1='rent'\n",
    "item2='gas'\n",
    "item3='grocerise'\n",
    "print(\"expense items:\",item1,item2,item3)"
   ]
  },
  {
   "cell_type": "markdown",
   "id": "490694e1",
   "metadata": {},
   "source": [
    "DATA TYPES==\n"
   ]
  },
  {
   "cell_type": "markdown",
   "id": "d2c1de6a",
   "metadata": {},
   "source": [
    "# INT"
   ]
  },
  {
   "cell_type": "code",
   "execution_count": 6,
   "id": "63555a81",
   "metadata": {},
   "outputs": [
    {
     "name": "stdout",
     "output_type": "stream",
     "text": [
      "34\n"
     ]
    }
   ],
   "source": [
    "A=34\n",
    "print(A)"
   ]
  },
  {
   "cell_type": "code",
   "execution_count": 7,
   "id": "9dd3c403",
   "metadata": {},
   "outputs": [
    {
     "data": {
      "text/plain": [
       "int"
      ]
     },
     "execution_count": 7,
     "metadata": {},
     "output_type": "execute_result"
    }
   ],
   "source": [
    "type(A)"
   ]
  },
  {
   "cell_type": "markdown",
   "id": "30b094dc",
   "metadata": {},
   "source": [
    "# float"
   ]
  },
  {
   "cell_type": "raw",
   "id": "bdcce625",
   "metadata": {},
   "source": [
    "flaot is a number, positive or nigative containig one or more with decimals"
   ]
  },
  {
   "cell_type": "code",
   "execution_count": 8,
   "id": "13d74fdc",
   "metadata": {},
   "outputs": [
    {
     "name": "stdout",
     "output_type": "stream",
     "text": [
      "<class 'float'>\n"
     ]
    }
   ],
   "source": [
    "a=12.2\n",
    "print(type(a))"
   ]
  },
  {
   "cell_type": "code",
   "execution_count": 9,
   "id": "ff5ff46b",
   "metadata": {},
   "outputs": [
    {
     "name": "stdout",
     "output_type": "stream",
     "text": [
      "<class 'complex'>\n"
     ]
    }
   ],
   "source": [
    "a=2+5j\n",
    "print(type(a))"
   ]
  },
  {
   "cell_type": "code",
   "execution_count": 10,
   "id": "d785b998",
   "metadata": {},
   "outputs": [
    {
     "name": "stdout",
     "output_type": "stream",
     "text": [
      "(3+5j)\n"
     ]
    }
   ],
   "source": [
    "x=3+5j\n",
    "print(x)"
   ]
  },
  {
   "cell_type": "code",
   "execution_count": 11,
   "id": "a218964e",
   "metadata": {},
   "outputs": [],
   "source": [
    "#non---value is empty non data type "
   ]
  },
  {
   "cell_type": "markdown",
   "id": "f51d1d54",
   "metadata": {},
   "source": [
    "## string"
   ]
  },
  {
   "cell_type": "code",
   "execution_count": 12,
   "id": "76692f23",
   "metadata": {},
   "outputs": [
    {
     "name": "stdout",
     "output_type": "stream",
     "text": [
      "shekhar raj\n"
     ]
    }
   ],
   "source": [
    "a='shekhar raj';\n",
    "print(a)"
   ]
  },
  {
   "cell_type": "code",
   "execution_count": 13,
   "id": "946df247",
   "metadata": {},
   "outputs": [
    {
     "name": "stdout",
     "output_type": "stream",
     "text": [
      "<class 'str'>\n"
     ]
    }
   ],
   "source": [
    "print(type(a))"
   ]
  },
  {
   "cell_type": "code",
   "execution_count": 14,
   "id": "9b3636e1",
   "metadata": {},
   "outputs": [
    {
     "name": "stdout",
     "output_type": "stream",
     "text": [
      "<class 'str'>\n"
     ]
    }
   ],
   "source": [
    "x='a';\n",
    "print(type(x))"
   ]
  },
  {
   "cell_type": "code",
   "execution_count": 15,
   "id": "19d14efd",
   "metadata": {},
   "outputs": [
    {
     "name": "stdout",
     "output_type": "stream",
     "text": [
      "dhfjdagujsjhjjhm\n"
     ]
    }
   ],
   "source": [
    "x='dhfjdagujsjhjjhm'\n",
    "print(x)"
   ]
  },
  {
   "cell_type": "code",
   "execution_count": 16,
   "id": "2b343b96",
   "metadata": {},
   "outputs": [
    {
     "name": "stdout",
     "output_type": "stream",
     "text": [
      "<class 'str'>\n"
     ]
    }
   ],
   "source": [
    "print(type(x))"
   ]
  },
  {
   "cell_type": "markdown",
   "id": "78af7216",
   "metadata": {},
   "source": [
    "# operators in python"
   ]
  },
  {
   "cell_type": "markdown",
   "id": "ef29ef1f",
   "metadata": {},
   "source": [
    "arithmetic operator"
   ]
  },
  {
   "cell_type": "code",
   "execution_count": 17,
   "id": "7e141e19",
   "metadata": {},
   "outputs": [
    {
     "name": "stdout",
     "output_type": "stream",
     "text": [
      "57\n"
     ]
    }
   ],
   "source": [
    "a=34\n",
    "b=23\n",
    "c=a+b\n",
    "print(c)"
   ]
  },
  {
   "cell_type": "code",
   "execution_count": 18,
   "id": "c10dff04",
   "metadata": {},
   "outputs": [
    {
     "name": "stdout",
     "output_type": "stream",
     "text": [
      "22\n"
     ]
    }
   ],
   "source": [
    "d=10+4*3\n",
    "print(d)"
   ]
  },
  {
   "cell_type": "code",
   "execution_count": 19,
   "id": "ecaa5dcf",
   "metadata": {},
   "outputs": [
    {
     "name": "stdout",
     "output_type": "stream",
     "text": [
      "11\n"
     ]
    }
   ],
   "source": [
    "c=a-b\n",
    "print(c)\n"
   ]
  },
  {
   "cell_type": "code",
   "execution_count": 20,
   "id": "246e465b",
   "metadata": {},
   "outputs": [
    {
     "name": "stdout",
     "output_type": "stream",
     "text": [
      "782\n"
     ]
    }
   ],
   "source": [
    "c=a*b\n",
    "print(c)"
   ]
  },
  {
   "cell_type": "code",
   "execution_count": 21,
   "id": "204300e7",
   "metadata": {},
   "outputs": [
    {
     "data": {
      "text/plain": [
       "9"
      ]
     },
     "execution_count": 21,
     "metadata": {},
     "output_type": "execute_result"
    }
   ],
   "source": [
    "3**2"
   ]
  },
  {
   "cell_type": "code",
   "execution_count": 22,
   "id": "d5d87881",
   "metadata": {},
   "outputs": [
    {
     "name": "stdout",
     "output_type": "stream",
     "text": [
      "435\n"
     ]
    }
   ],
   "source": [
    "nyc_ball=188\n",
    "bal_pitt=247\n",
    "total_distance=nyc_ball+bal_pitt\n",
    "print(total_distance)"
   ]
  },
  {
   "cell_type": "code",
   "execution_count": 23,
   "id": "e04dddfe",
   "metadata": {},
   "outputs": [
    {
     "name": "stdout",
     "output_type": "stream",
     "text": [
      "6.6923076923076925\n"
     ]
    }
   ],
   "source": [
    "mph=65\n",
    "time=total_distance/mph\n",
    "print(time)"
   ]
  },
  {
   "cell_type": "code",
   "execution_count": 24,
   "id": "3abdb528",
   "metadata": {},
   "outputs": [
    {
     "data": {
      "text/plain": [
       "6.69"
      ]
     },
     "execution_count": 24,
     "metadata": {},
     "output_type": "execute_result"
    }
   ],
   "source": [
    "round(time,2)"
   ]
  },
  {
   "cell_type": "code",
   "execution_count": 25,
   "id": "b708e3e9",
   "metadata": {},
   "outputs": [
    {
     "data": {
      "text/plain": [
       "6.692"
      ]
     },
     "execution_count": 25,
     "metadata": {},
     "output_type": "execute_result"
    }
   ],
   "source": [
    "round(time,3)"
   ]
  },
  {
   "cell_type": "code",
   "execution_count": 26,
   "id": "0af67f7d",
   "metadata": {},
   "outputs": [
    {
     "data": {
      "text/plain": [
       "36"
      ]
     },
     "execution_count": 26,
     "metadata": {},
     "output_type": "execute_result"
    }
   ],
   "source": [
    "(10+2)*3"
   ]
  },
  {
   "cell_type": "code",
   "execution_count": null,
   "id": "6f022179",
   "metadata": {},
   "outputs": [],
   "source": []
  },
  {
   "cell_type": "code",
   "execution_count": 27,
   "id": "a7de8a99",
   "metadata": {},
   "outputs": [
    {
     "name": "stdout",
     "output_type": "stream",
     "text": [
      "5\n"
     ]
    }
   ],
   "source": [
    "a=60\n",
    "b=12\n",
    "c=a//b\n",
    "print(c)"
   ]
  },
  {
   "cell_type": "markdown",
   "id": "c17b3fe5",
   "metadata": {},
   "source": [
    "comparision operator"
   ]
  },
  {
   "cell_type": "code",
   "execution_count": 28,
   "id": "dcdf92f1",
   "metadata": {},
   "outputs": [
    {
     "name": "stdout",
     "output_type": "stream",
     "text": [
      "False\n"
     ]
    }
   ],
   "source": [
    "a=23\n",
    "b=34\n",
    "print(a==b)"
   ]
  },
  {
   "cell_type": "code",
   "execution_count": 29,
   "id": "760be940",
   "metadata": {},
   "outputs": [
    {
     "name": "stdout",
     "output_type": "stream",
     "text": [
      "True\n"
     ]
    }
   ],
   "source": [
    "print(a!=b)"
   ]
  },
  {
   "cell_type": "code",
   "execution_count": 30,
   "id": "2a14dbfd",
   "metadata": {},
   "outputs": [
    {
     "name": "stdout",
     "output_type": "stream",
     "text": [
      "False\n"
     ]
    }
   ],
   "source": [
    "print(a>b)"
   ]
  },
  {
   "cell_type": "markdown",
   "id": "e7469bf8",
   "metadata": {},
   "source": [
    "Consider a module to be same as code library"
   ]
  },
  {
   "cell_type": "markdown",
   "id": "91723ecc",
   "metadata": {},
   "source": [
    "A file containig a set of function you want to include in your application"
   ]
  },
  {
   "cell_type": "code",
   "execution_count": 31,
   "id": "0c4643dd",
   "metadata": {},
   "outputs": [],
   "source": [
    "import math"
   ]
  },
  {
   "cell_type": "code",
   "execution_count": 32,
   "id": "46479ba7",
   "metadata": {},
   "outputs": [
    {
     "data": {
      "text/plain": [
       "3.141592653589793"
      ]
     },
     "execution_count": 32,
     "metadata": {},
     "output_type": "execute_result"
    }
   ],
   "source": [
    "math.pi"
   ]
  },
  {
   "cell_type": "code",
   "execution_count": 33,
   "id": "bfcfc53b",
   "metadata": {},
   "outputs": [
    {
     "data": {
      "text/plain": [
       "120"
      ]
     },
     "execution_count": 33,
     "metadata": {},
     "output_type": "execute_result"
    }
   ],
   "source": [
    "math.factorial(5)"
   ]
  },
  {
   "cell_type": "code",
   "execution_count": 34,
   "id": "aae7300f",
   "metadata": {},
   "outputs": [
    {
     "data": {
      "text/plain": [
       "-0.9589242746631385"
      ]
     },
     "execution_count": 34,
     "metadata": {},
     "output_type": "execute_result"
    }
   ],
   "source": [
    "math.sin(5)"
   ]
  },
  {
   "cell_type": "code",
   "execution_count": 35,
   "id": "21d86a5c",
   "metadata": {},
   "outputs": [],
   "source": [
    "import random"
   ]
  },
  {
   "cell_type": "code",
   "execution_count": 36,
   "id": "fdbe4d7c",
   "metadata": {},
   "outputs": [
    {
     "data": {
      "text/plain": [
       "[7, 56, 4, 2, 6]"
      ]
     },
     "execution_count": 36,
     "metadata": {},
     "output_type": "execute_result"
    }
   ],
   "source": [
    "a=[2,4,56,7,6]\n",
    "random.shuffle(a)\n",
    "a"
   ]
  },
  {
   "cell_type": "code",
   "execution_count": 1,
   "id": "00857876",
   "metadata": {},
   "outputs": [
    {
     "name": "stdout",
     "output_type": "stream",
     "text": [
      "time.struct_time(tm_year=2024, tm_mon=1, tm_mday=29, tm_hour=14, tm_min=44, tm_sec=36, tm_wday=0, tm_yday=29, tm_isdst=0)\n"
     ]
    }
   ],
   "source": [
    "import time;\n",
    "print(time.localtime(time.time()))"
   ]
  },
  {
   "cell_type": "code",
   "execution_count": 38,
   "id": "1eaf02fb",
   "metadata": {},
   "outputs": [
    {
     "name": "stdout",
     "output_type": "stream",
     "text": [
      "2024-01-20 17:08:27.682342\n"
     ]
    }
   ],
   "source": [
    "import datetime;\n",
    "print(datetime.datetime.now())"
   ]
  },
  {
   "cell_type": "code",
   "execution_count": 39,
   "id": "47dd77b9",
   "metadata": {},
   "outputs": [
    {
     "name": "stdout",
     "output_type": "stream",
     "text": [
      "   December 2022\n",
      "Mo Tu We Th Fr Sa Su\n",
      "          1  2  3  4\n",
      " 5  6  7  8  9 10 11\n",
      "12 13 14 15 16 17 18\n",
      "19 20 21 22 23 24 25\n",
      "26 27 28 29 30 31\n",
      "\n"
     ]
    }
   ],
   "source": [
    "import calendar;\n",
    "cal=calendar.month(2022,12)\n",
    "print(cal)\n"
   ]
  },
  {
   "cell_type": "code",
   "execution_count": 40,
   "id": "db1bc045",
   "metadata": {},
   "outputs": [
    {
     "name": "stdout",
     "output_type": "stream",
     "text": [
      "1705750707.8707824\n"
     ]
    }
   ],
   "source": [
    "import time;\n",
    "print(time.time())"
   ]
  },
  {
   "cell_type": "code",
   "execution_count": 41,
   "id": "a72bce49",
   "metadata": {},
   "outputs": [
    {
     "name": "stdout",
     "output_type": "stream",
     "text": [
      "file is opened successfuly\n"
     ]
    }
   ],
   "source": [
    "file=open(\"student-mat.csv\")\n",
    "if file:\n",
    "    print(\"file is opened successfuly\")"
   ]
  },
  {
   "cell_type": "code",
   "execution_count": 42,
   "id": "e88cf2b6",
   "metadata": {},
   "outputs": [
    {
     "name": "stdout",
     "output_type": "stream",
     "text": [
      "23\n",
      "4\n",
      "8\n",
      "16\n"
     ]
    }
   ],
   "source": [
    "n=int(input())\n",
    "i=1\n",
    "while(i<=n):\n",
    "    flag=0\n",
    "    for j in range(2,i):\n",
    "        if(i%j==0):\n",
    "            flag=1\n",
    "            break\n",
    "    if(flag==1):\n",
    "        print(i)\n",
    "        \n",
    "    i=i+i"
   ]
  },
  {
   "cell_type": "code",
   "execution_count": null,
   "id": "ae01d85b",
   "metadata": {},
   "outputs": [],
   "source": []
  },
  {
   "cell_type": "code",
   "execution_count": null,
   "id": "7a3202b8",
   "metadata": {},
   "outputs": [],
   "source": []
  },
  {
   "cell_type": "code",
   "execution_count": null,
   "id": "e7589efb",
   "metadata": {},
   "outputs": [],
   "source": []
  },
  {
   "cell_type": "code",
   "execution_count": 43,
   "id": "a4073704",
   "metadata": {},
   "outputs": [
    {
     "data": {
      "text/plain": [
       "'Sat Jan 20 17:08:35 2024'"
      ]
     },
     "execution_count": 43,
     "metadata": {},
     "output_type": "execute_result"
    }
   ],
   "source": [
    "time.ctime()"
   ]
  },
  {
   "cell_type": "markdown",
   "id": "1952900d",
   "metadata": {},
   "source": [
    "# data type"
   ]
  },
  {
   "cell_type": "raw",
   "id": "2fc2fba1",
   "metadata": {},
   "source": [
    "#list#\n",
    "# list are user friendly. a list can have elements of  different data types. such as integer, float, string, tuple,another list\n",
    "l=[2,34,65,45,65]\n",
    "print(l)"
   ]
  },
  {
   "cell_type": "code",
   "execution_count": 44,
   "id": "099b2ac7",
   "metadata": {},
   "outputs": [
    {
     "name": "stdout",
     "output_type": "stream",
     "text": [
      "[2, 34, 65, 45, 65]\n"
     ]
    }
   ],
   "source": [
    "l=[2,34,65,45,65]\n",
    "print(l)\n"
   ]
  },
  {
   "cell_type": "code",
   "execution_count": 45,
   "id": "00c15519",
   "metadata": {},
   "outputs": [
    {
     "data": {
      "text/plain": [
       "list"
      ]
     },
     "execution_count": 45,
     "metadata": {},
     "output_type": "execute_result"
    }
   ],
   "source": [
    "type(l)"
   ]
  },
  {
   "cell_type": "code",
   "execution_count": 46,
   "id": "e9fd9614",
   "metadata": {},
   "outputs": [
    {
     "data": {
      "text/plain": [
       "[34]"
      ]
     },
     "execution_count": 46,
     "metadata": {},
     "output_type": "execute_result"
    }
   ],
   "source": [
    "l[1:2]"
   ]
  },
  {
   "cell_type": "code",
   "execution_count": 47,
   "id": "4319ee49",
   "metadata": {},
   "outputs": [
    {
     "data": {
      "text/plain": [
       "65"
      ]
     },
     "execution_count": 47,
     "metadata": {},
     "output_type": "execute_result"
    }
   ],
   "source": [
    "l[-1]"
   ]
  },
  {
   "cell_type": "code",
   "execution_count": 48,
   "id": "2fcdb8ba",
   "metadata": {},
   "outputs": [
    {
     "data": {
      "text/plain": [
       "['shiva', 'shiva', 'shiva', 'shiva']"
      ]
     },
     "execution_count": 48,
     "metadata": {},
     "output_type": "execute_result"
    }
   ],
   "source": [
    "l2=['shiva']\n",
    "l2*4"
   ]
  },
  {
   "cell_type": "code",
   "execution_count": 49,
   "id": "7eaf1039",
   "metadata": {},
   "outputs": [
    {
     "data": {
      "text/plain": [
       "['shiva']"
      ]
     },
     "execution_count": 49,
     "metadata": {},
     "output_type": "execute_result"
    }
   ],
   "source": [
    "l2"
   ]
  },
  {
   "cell_type": "code",
   "execution_count": 50,
   "id": "54995b9f",
   "metadata": {},
   "outputs": [
    {
     "name": "stdout",
     "output_type": "stream",
     "text": [
      "[2, 34, 65, 45, 65]\n"
     ]
    }
   ],
   "source": [
    "l=[2,34,65,45,65]\n",
    "print(l)"
   ]
  },
  {
   "cell_type": "code",
   "execution_count": 51,
   "id": "210077db",
   "metadata": {},
   "outputs": [
    {
     "data": {
      "text/plain": [
       "True"
      ]
     },
     "execution_count": 51,
     "metadata": {},
     "output_type": "execute_result"
    }
   ],
   "source": [
    "45 in l"
   ]
  },
  {
   "cell_type": "code",
   "execution_count": 52,
   "id": "3764ad90",
   "metadata": {},
   "outputs": [
    {
     "data": {
      "text/plain": [
       "False"
      ]
     },
     "execution_count": 52,
     "metadata": {},
     "output_type": "execute_result"
    }
   ],
   "source": [
    "45 not in l"
   ]
  },
  {
   "cell_type": "code",
   "execution_count": 53,
   "id": "dbfb2e13",
   "metadata": {},
   "outputs": [
    {
     "data": {
      "text/plain": [
       "[65, 45, 65, 34, 2]"
      ]
     },
     "execution_count": 53,
     "metadata": {},
     "output_type": "execute_result"
    }
   ],
   "source": [
    "l[::-1]"
   ]
  },
  {
   "cell_type": "code",
   "execution_count": 54,
   "id": "f626aca4",
   "metadata": {},
   "outputs": [
    {
     "name": "stdout",
     "output_type": "stream",
     "text": [
      "<class 'float'>\n"
     ]
    }
   ],
   "source": [
    "a=5.5\n",
    "print(type(a))"
   ]
  },
  {
   "cell_type": "code",
   "execution_count": 55,
   "id": "681ac03b",
   "metadata": {},
   "outputs": [
    {
     "data": {
      "text/plain": [
       "[65, 45]"
      ]
     },
     "execution_count": 55,
     "metadata": {},
     "output_type": "execute_result"
    }
   ],
   "source": [
    "l[:2:-1]"
   ]
  },
  {
   "cell_type": "code",
   "execution_count": 56,
   "id": "23f703c1",
   "metadata": {},
   "outputs": [
    {
     "data": {
      "text/plain": [
       "[45, 65, 34, 2]"
      ]
     },
     "execution_count": 56,
     "metadata": {},
     "output_type": "execute_result"
    }
   ],
   "source": [
    "l[-2::-1]"
   ]
  },
  {
   "cell_type": "code",
   "execution_count": 57,
   "id": "8bbd49a3",
   "metadata": {},
   "outputs": [
    {
     "data": {
      "text/plain": [
       "[2, 34, 65, 45, 65, 'absd']"
      ]
     },
     "execution_count": 57,
     "metadata": {},
     "output_type": "execute_result"
    }
   ],
   "source": [
    "l=[2,34,65,45,65]\n",
    "l.append(\"absd\")\n",
    "l"
   ]
  },
  {
   "cell_type": "code",
   "execution_count": 58,
   "id": "b234ee91",
   "metadata": {},
   "outputs": [
    {
     "name": "stdout",
     "output_type": "stream",
     "text": [
      "[2, 34, 65, 45, 65, 'absd', 66, 67, 68]\n"
     ]
    }
   ],
   "source": [
    "l.extend([66,67,68])\n",
    "print(l)"
   ]
  },
  {
   "cell_type": "code",
   "execution_count": 59,
   "id": "d7dbad84",
   "metadata": {},
   "outputs": [
    {
     "name": "stdout",
     "output_type": "stream",
     "text": [
      "[2, 34, 65, 45, 'Delhi', 65, 'absd', 66, 67, 68]\n"
     ]
    }
   ],
   "source": [
    "l.insert(4,'Delhi')\n",
    "print(l)"
   ]
  },
  {
   "cell_type": "code",
   "execution_count": 60,
   "id": "a5e619b9",
   "metadata": {},
   "outputs": [
    {
     "data": {
      "text/plain": [
       "45"
      ]
     },
     "execution_count": 60,
     "metadata": {},
     "output_type": "execute_result"
    }
   ],
   "source": [
    "l.pop(3)"
   ]
  },
  {
   "cell_type": "code",
   "execution_count": 61,
   "id": "23a7af18",
   "metadata": {},
   "outputs": [
    {
     "data": {
      "text/plain": [
       "[2, 34, 'Delhi', 65, 'absd', 66, 67, 68]"
      ]
     },
     "execution_count": 61,
     "metadata": {},
     "output_type": "execute_result"
    }
   ],
   "source": [
    "l.remove(65)\n",
    "l"
   ]
  },
  {
   "cell_type": "code",
   "execution_count": 62,
   "id": "71fd4ae9",
   "metadata": {},
   "outputs": [
    {
     "name": "stdout",
     "output_type": "stream",
     "text": [
      "[2, 34, 'Delhi', 65, 'absd', 66, 67, 500]\n"
     ]
    }
   ],
   "source": [
    "l[-1]=500\n",
    "print(l)\n"
   ]
  },
  {
   "cell_type": "code",
   "execution_count": 63,
   "id": "b9cf7a46",
   "metadata": {},
   "outputs": [
    {
     "name": "stdout",
     "output_type": "stream",
     "text": [
      "[2, 300, 3430, 547, 65, 'absd', 66, 67, 500]\n"
     ]
    }
   ],
   "source": [
    "l[1:3]=[300,3430,547]\n",
    "print(l)"
   ]
  },
  {
   "cell_type": "code",
   "execution_count": 64,
   "id": "19af7718",
   "metadata": {},
   "outputs": [
    {
     "data": {
      "text/plain": [
       "[-54, 12, 23, 65, 87]"
      ]
     },
     "execution_count": 64,
     "metadata": {},
     "output_type": "execute_result"
    }
   ],
   "source": [
    "a=[23,-54,12,65,87]\n",
    "a.sort()\n",
    "a"
   ]
  },
  {
   "cell_type": "code",
   "execution_count": 65,
   "id": "15cd5455",
   "metadata": {},
   "outputs": [
    {
     "data": {
      "text/plain": [
       "[87, 65, 23, 12, -54]"
      ]
     },
     "execution_count": 65,
     "metadata": {},
     "output_type": "execute_result"
    }
   ],
   "source": [
    "a.reverse()\n",
    "a"
   ]
  },
  {
   "cell_type": "code",
   "execution_count": 66,
   "id": "16f3ccca",
   "metadata": {},
   "outputs": [
    {
     "data": {
      "text/plain": [
       "'arithemetic'"
      ]
     },
     "execution_count": 66,
     "metadata": {},
     "output_type": "execute_result"
    }
   ],
   "source": [
    "'''arithemetic'''"
   ]
  },
  {
   "cell_type": "code",
   "execution_count": 67,
   "id": "6d69ef6f",
   "metadata": {},
   "outputs": [
    {
     "name": "stdout",
     "output_type": "stream",
     "text": [
      "[2, 3, 5, 4, 6, 8, 3, 4, 2, 5, 9, 7]\n"
     ]
    }
   ],
   "source": [
    "l1=[2,3,5,4,6,8]\n",
    "l2=[3,4,2,5,9,7]\n",
    "a=l1+l2\n",
    "print(a)"
   ]
  },
  {
   "cell_type": "code",
   "execution_count": 68,
   "id": "807e1a8a",
   "metadata": {},
   "outputs": [
    {
     "name": "stdout",
     "output_type": "stream",
     "text": [
      "[21, 43, 23, 54, 65, 21, 43, 23, 54, 65]\n"
     ]
    }
   ],
   "source": [
    "l3=[21,43,23,54,65]\n",
    "print(l3*2)"
   ]
  },
  {
   "cell_type": "code",
   "execution_count": 69,
   "id": "e471795c",
   "metadata": {},
   "outputs": [
    {
     "name": "stdout",
     "output_type": "stream",
     "text": [
      "True\n"
     ]
    }
   ],
   "source": [
    "l1=[2,3,5,4,6,8]\n",
    "l2=[3,4,2,5,9,7]\n",
    "print(8 in l1)"
   ]
  },
  {
   "cell_type": "code",
   "execution_count": 70,
   "id": "4787f796",
   "metadata": {},
   "outputs": [
    {
     "name": "stdout",
     "output_type": "stream",
     "text": [
      "5 False\n"
     ]
    }
   ],
   "source": [
    "print(5,9 not in l2)"
   ]
  },
  {
   "cell_type": "code",
   "execution_count": 71,
   "id": "4a6bbc92",
   "metadata": {},
   "outputs": [
    {
     "name": "stdout",
     "output_type": "stream",
     "text": [
      "3\n",
      "4\n",
      "2\n",
      "5\n",
      "9\n",
      "7\n"
     ]
    }
   ],
   "source": [
    "for i in l2:\n",
    "    print(i)"
   ]
  },
  {
   "cell_type": "code",
   "execution_count": 72,
   "id": "8e069af7",
   "metadata": {},
   "outputs": [
    {
     "name": "stdout",
     "output_type": "stream",
     "text": [
      "7\n"
     ]
    }
   ],
   "source": [
    "l4=[1,2,3,4,5,6,7]\n",
    "print(len(l4))"
   ]
  },
  {
   "cell_type": "code",
   "execution_count": 73,
   "id": "75cc44b9",
   "metadata": {},
   "outputs": [
    {
     "name": "stdout",
     "output_type": "stream",
     "text": [
      "1\n"
     ]
    }
   ],
   "source": [
    "print(l4.count(5))"
   ]
  },
  {
   "cell_type": "code",
   "execution_count": 74,
   "id": "57b179a6",
   "metadata": {},
   "outputs": [
    {
     "data": {
      "text/plain": [
       "3"
      ]
     },
     "execution_count": 74,
     "metadata": {},
     "output_type": "execute_result"
    }
   ],
   "source": [
    "l4.index(4)"
   ]
  },
  {
   "cell_type": "code",
   "execution_count": 75,
   "id": "85bbb3aa",
   "metadata": {
    "scrolled": true
   },
   "outputs": [],
   "source": [
    "ls=[]\n",
    "for i in range (1,11):\n",
    "    ls.append(i)\n",
    "    ls"
   ]
  },
  {
   "cell_type": "code",
   "execution_count": 76,
   "id": "5eb9c0d1",
   "metadata": {},
   "outputs": [
    {
     "name": "stdout",
     "output_type": "stream",
     "text": [
      "[1, 2, 3, 4, 5, 6, 7, 8, 9, 10]\n"
     ]
    }
   ],
   "source": [
    "print(ls)"
   ]
  },
  {
   "cell_type": "code",
   "execution_count": 77,
   "id": "4d1426dc",
   "metadata": {},
   "outputs": [
    {
     "name": "stdout",
     "output_type": "stream",
     "text": [
      "[]\n"
     ]
    }
   ],
   "source": [
    "#scaler miltiply on a vector\n",
    "v=[2,3,4,5]\n",
    "s=-3\n",
    "print(v*s)"
   ]
  },
  {
   "cell_type": "code",
   "execution_count": 78,
   "id": "3740a464",
   "metadata": {},
   "outputs": [],
   "source": [
    "h=[]\n",
    "for i in v :\n",
    "    h.append(i*s)\n",
    "    h"
   ]
  },
  {
   "cell_type": "code",
   "execution_count": 79,
   "id": "6605608b",
   "metadata": {},
   "outputs": [
    {
     "name": "stdout",
     "output_type": "stream",
     "text": [
      "[-6, -9, -12, -15]\n"
     ]
    }
   ],
   "source": [
    "print(h)"
   ]
  },
  {
   "cell_type": "raw",
   "id": "6943b26c",
   "metadata": {},
   "source": [
    "list coprehension"
   ]
  },
  {
   "cell_type": "code",
   "execution_count": 80,
   "id": "d01261c0",
   "metadata": {},
   "outputs": [
    {
     "data": {
      "text/plain": [
       "[144, 9, 36, 16, 36]"
      ]
     },
     "execution_count": 80,
     "metadata": {},
     "output_type": "execute_result"
    }
   ],
   "source": [
    "a=[12,3,6,4,6]       \n",
    "[i**2 for i in a]"
   ]
  },
  {
   "cell_type": "code",
   "execution_count": 81,
   "id": "a7647192",
   "metadata": {},
   "outputs": [
    {
     "data": {
      "text/plain": [
       "[3, 6, 9, 12, 15, 18, 21, 24, 27, 30]"
      ]
     },
     "execution_count": 81,
     "metadata": {},
     "output_type": "execute_result"
    }
   ],
   "source": [
    "[i for i in range(1,32) if i%3==0]"
   ]
  },
  {
   "cell_type": "code",
   "execution_count": 82,
   "id": "6c4490ab",
   "metadata": {},
   "outputs": [
    {
     "data": {
      "text/plain": [
       "['python', 'php']"
      ]
     },
     "execution_count": 82,
     "metadata": {},
     "output_type": "execute_result"
    }
   ],
   "source": [
    "languages=['java','python','php','c','java']\n",
    "[language for language in languages if language.startswith('p')]"
   ]
  },
  {
   "cell_type": "code",
   "execution_count": 83,
   "id": "395723e8",
   "metadata": {},
   "outputs": [
    {
     "data": {
      "text/plain": [
       "['apple']"
      ]
     },
     "execution_count": 83,
     "metadata": {},
     "output_type": "execute_result"
    }
   ],
   "source": [
    "b=['apple','banana','mango','grapes','gavava']\n",
    "mf=['kiwi','banana','mango','apple','gavava']\n",
    "[fruit for fruit in mf if fruit.startswith('a')]"
   ]
  },
  {
   "cell_type": "code",
   "execution_count": 84,
   "id": "d1c35fb3",
   "metadata": {},
   "outputs": [
    {
     "name": "stdout",
     "output_type": "stream",
     "text": [
      "[[1, 2, 3, 4, 5, 6], [2, 4, 6, 8, 10, 12], [3, 6, 9, 12, 15, 18], [4, 8, 12, 16, 20, 24], [5, 10, 15, 20, 25, 30], [6, 12, 18, 24, 30, 36]]\n"
     ]
    }
   ],
   "source": [
    "print([[i*j for i in range(1,7)] for j in range(1,7)])"
   ]
  },
  {
   "cell_type": "code",
   "execution_count": 85,
   "id": "dfea28d6",
   "metadata": {},
   "outputs": [
    {
     "name": "stdout",
     "output_type": "stream",
     "text": [
      "[72, 144, 216, 432, 18, 36, 54, 108, 36, 72, 108, 216, 24, 48, 72, 144, 36, 72, 108, 216]\n"
     ]
    }
   ],
   "source": [
    "la=[12,3,6,4,6]\n",
    "lb=[6,12,18,36]\n",
    "print([i*j for i in la for j in lb])"
   ]
  },
  {
   "cell_type": "raw",
   "id": "093480d8",
   "metadata": {},
   "source": [
    "list trewers"
   ]
  },
  {
   "cell_type": "code",
   "execution_count": 86,
   "id": "e49b5221",
   "metadata": {},
   "outputs": [
    {
     "name": "stdout",
     "output_type": "stream",
     "text": [
      "2\n",
      "4\n",
      "3\n",
      "2\n",
      "5\n"
     ]
    }
   ],
   "source": [
    "a=[2,4,3,2,5]\n",
    "for i in a:\n",
    "    print(i)"
   ]
  },
  {
   "cell_type": "code",
   "execution_count": 87,
   "id": "90634cb7",
   "metadata": {},
   "outputs": [
    {
     "name": "stdout",
     "output_type": "stream",
     "text": [
      "0 5\n",
      "0 5\n",
      "0 5\n",
      "0 5\n",
      "0 5\n"
     ]
    }
   ],
   "source": [
    "a=[2,4,3,2,5]\n",
    "for i in a:\n",
    "    print(0,len(a)) "
   ]
  },
  {
   "cell_type": "markdown",
   "id": "f5494bc0",
   "metadata": {},
   "source": [
    "# #Tuples"
   ]
  },
  {
   "cell_type": "raw",
   "id": "956812c1",
   "metadata": {},
   "source": [
    "A tuple in python is similar to a list .The diffrence bwtween the tow list thart we can't change element of tuple once it is assigned whereas we can change the element of list"
   ]
  },
  {
   "cell_type": "raw",
   "id": "b68f0659",
   "metadata": {},
   "source": [
    "characterstics of tuple=\n",
    "                        unorderd\n",
    "                        unchangeble\n",
    "                        allows duplicate\n"
   ]
  },
  {
   "cell_type": "code",
   "execution_count": 88,
   "id": "7886936e",
   "metadata": {},
   "outputs": [
    {
     "name": "stdout",
     "output_type": "stream",
     "text": [
      "(3, 4, 4, 65, 7, 3, 5)\n"
     ]
    },
    {
     "data": {
      "text/plain": [
       "tuple"
      ]
     },
     "execution_count": 88,
     "metadata": {},
     "output_type": "execute_result"
    }
   ],
   "source": [
    "# tuples\n",
    "#create\n",
    "#access\n",
    "#edite\n",
    "#add\n",
    "#delete\n",
    "#operations\n",
    "#function\n",
    "\n",
    "#create\n",
    "t=(3,4,4,65,7,3,5)\n",
    "print(t)\n",
    "type(t)\n"
   ]
  },
  {
   "cell_type": "code",
   "execution_count": 89,
   "id": "6db79be2",
   "metadata": {},
   "outputs": [
    {
     "name": "stdout",
     "output_type": "stream",
     "text": [
      "3\n",
      "4\n",
      "4\n",
      "65\n",
      "7\n",
      "3\n",
      "5\n"
     ]
    }
   ],
   "source": [
    "t=(3,4,4,65,7,3,5)\n",
    "for i in t:\n",
    "    print(i)"
   ]
  },
  {
   "cell_type": "code",
   "execution_count": 90,
   "id": "6e8e290e",
   "metadata": {},
   "outputs": [
    {
     "data": {
      "text/plain": [
       "3"
      ]
     },
     "execution_count": 90,
     "metadata": {},
     "output_type": "execute_result"
    }
   ],
   "source": [
    "t.index(65)"
   ]
  },
  {
   "cell_type": "code",
   "execution_count": 91,
   "id": "e7ddc012",
   "metadata": {},
   "outputs": [
    {
     "name": "stdout",
     "output_type": "stream",
     "text": [
      "count_odd 3\n",
      "even_number 4\n",
      "even_number 4\n",
      "count_odd 65\n",
      "count_odd 7\n",
      "count_odd 3\n",
      "count_odd 5\n"
     ]
    }
   ],
   "source": [
    "t=(3,4,4,65,7,3,5)\n",
    "count_even=0\n",
    "count_odd=0\n",
    "for i in t:\n",
    "    if i%2==0:\n",
    "        print(\"even_number\",i)\n",
    "        count_even=count_even+1\n",
    "    else:\n",
    "        print(\"count_odd\",i)\n",
    "        count_odd=count_odd+1"
   ]
  },
  {
   "cell_type": "code",
   "execution_count": 92,
   "id": "4f6dacc2",
   "metadata": {},
   "outputs": [
    {
     "name": "stdout",
     "output_type": "stream",
     "text": [
      "[1, 2, <built-in function print>, <class 'type'>, <bound method Kernel.raw_input of <ipykernel.ipkernel.IPythonKernel object at 0x000002F7EAA22190>>]\n"
     ]
    }
   ],
   "source": [
    "l=[1,2,print,type,input]\n",
    "print(l)"
   ]
  },
  {
   "cell_type": "markdown",
   "id": "dd7fc1d8",
   "metadata": {},
   "source": [
    "# #Sets"
   ]
  },
  {
   "cell_type": "raw",
   "id": "95ea52dd",
   "metadata": {},
   "source": [
    "A set is an unordered collection of items .Every set element is unique(no duplicate) and must be immutable(can not be cahnged).\n",
    "Hower a set it self is mutable.We can add or remove items from it.\n",
    "Sets can also be used to perform mathemetical set operation ,symmetrics differance etc.\n",
    "\n",
    "/Characterstics:\n",
    "                Unorderd\n",
    "                Mutable\n",
    "                No duplicates\n",
    "                Can't cantain  mutable data types\n",
    "                \n",
    "                "
   ]
  },
  {
   "cell_type": "code",
   "execution_count": 93,
   "id": "538c443c",
   "metadata": {},
   "outputs": [
    {
     "name": "stdout",
     "output_type": "stream",
     "text": [
      "{434, 75, 4, 54, 234, 43}\n"
     ]
    },
    {
     "data": {
      "text/plain": [
       "set"
      ]
     },
     "execution_count": 93,
     "metadata": {},
     "output_type": "execute_result"
    }
   ],
   "source": [
    "#sets\n",
    "s={234,43,54,75,4,434,}\n",
    "print(s)\n",
    "type(s)\n"
   ]
  },
  {
   "cell_type": "code",
   "execution_count": 94,
   "id": "efee6887",
   "metadata": {},
   "outputs": [
    {
     "name": "stdout",
     "output_type": "stream",
     "text": [
      "{434, 75, 4, 34, 54, 234, 43}\n"
     ]
    }
   ],
   "source": [
    "#s={234,43,54,75,4,434,}\n",
    "#s.add(\"34,45\")\n",
    "#print(s)\n",
    "s={234,43,54,75,4,434,}\n",
    "s.add(34)\n",
    "print(s)\n",
    "\n"
   ]
  },
  {
   "cell_type": "code",
   "execution_count": 95,
   "id": "40b14df3",
   "metadata": {},
   "outputs": [
    {
     "name": "stdout",
     "output_type": "stream",
     "text": [
      "{434, 75, 4, 54, 234, 43}\n"
     ]
    }
   ],
   "source": [
    "s={234,43,54,75,4,434,}\n",
    "print(s)\n"
   ]
  },
  {
   "cell_type": "code",
   "execution_count": 96,
   "id": "4416d91c",
   "metadata": {},
   "outputs": [
    {
     "name": "stdout",
     "output_type": "stream",
     "text": [
      "3263834349856\n"
     ]
    }
   ],
   "source": [
    "s={234,43,54,75,4,434,}\n",
    "print(id(s))\n"
   ]
  },
  {
   "cell_type": "code",
   "execution_count": 97,
   "id": "cfac3368",
   "metadata": {},
   "outputs": [
    {
     "name": "stdout",
     "output_type": "stream",
     "text": [
      "{434, 75, 4, 234, 43}\n"
     ]
    }
   ],
   "source": [
    "s={234,43,54,75,4,434}\n",
    "s.remove(54)\n",
    "print(s)\n"
   ]
  },
  {
   "cell_type": "markdown",
   "id": "c32e4270",
   "metadata": {},
   "source": [
    "## Dictionary "
   ]
  },
  {
   "cell_type": "raw",
   "id": "1fdd1d81",
   "metadata": {},
   "source": [
    "Dictionar is a collection of of key and value, used to store data value like a map\n",
    "which unlike other data type which hold only single value as an element.\n",
    "somelanguage it is known as map or assoseative arrays. \n",
    "\n",
    "characterstics:\n",
    "               Mutable\n",
    "               Indexing has no meaning\n",
    "               Keys can't be duplicated\n",
    "               Keys can't be mutable items"
   ]
  },
  {
   "cell_type": "code",
   "execution_count": 98,
   "id": "61c3a18f",
   "metadata": {},
   "outputs": [],
   "source": [
    "#dictionary\n",
    "# it is set of key.\n",
    "#dict has no indexing\n",
    "#dit key>immutable value> they can mutable\n",
    "# keys should be uniqe"
   ]
  },
  {
   "cell_type": "code",
   "execution_count": 99,
   "id": "2286e7b5",
   "metadata": {},
   "outputs": [
    {
     "name": "stdout",
     "output_type": "stream",
     "text": [
      "{'NAME': 'shekhar', 'GENDER': 'MALE', 'ROLL NO': 4546}\n"
     ]
    }
   ],
   "source": [
    "d={'NAME':\"shekhar\",\n",
    "   'GENDER':'MALE',\n",
    "   'ROLL NO':4546}\n",
    "print(d)"
   ]
  },
  {
   "cell_type": "code",
   "execution_count": 100,
   "id": "df9e32bc",
   "metadata": {},
   "outputs": [
    {
     "data": {
      "text/plain": [
       "'shekhar'"
      ]
     },
     "execution_count": 100,
     "metadata": {},
     "output_type": "execute_result"
    }
   ],
   "source": [
    "d['NAME']"
   ]
  },
  {
   "cell_type": "code",
   "execution_count": 101,
   "id": "ed65e6af",
   "metadata": {},
   "outputs": [
    {
     "name": "stdout",
     "output_type": "stream",
     "text": [
      "{'NAME': 'RAM', 'GENDER': 'MALE', 'ROLL NO': 4546}\n"
     ]
    }
   ],
   "source": [
    "d['NAME']='RAM'\n",
    "print(d)\n"
   ]
  },
  {
   "cell_type": "code",
   "execution_count": 102,
   "id": "93978a65",
   "metadata": {},
   "outputs": [
    {
     "data": {
      "text/plain": [
       "{'NAME': 'RAM', 'GENDER': 'MALE', 'ROLL NO': 4546}"
      ]
     },
     "execution_count": 102,
     "metadata": {},
     "output_type": "execute_result"
    }
   ],
   "source": [
    "d"
   ]
  },
  {
   "cell_type": "code",
   "execution_count": 103,
   "id": "72fe13b0",
   "metadata": {},
   "outputs": [
    {
     "name": "stdout",
     "output_type": "stream",
     "text": [
      "{'NAME': 'shekhar', 'GENDER': 'MALE', 'ROLL NO': 4546, 'MARKS': {'M1': 4532, 'DS': 76, 'MD': 45}}\n"
     ]
    }
   ],
   "source": [
    "d={'NAME':\"shekhar\",\n",
    "   'GENDER':'MALE',\n",
    "   'ROLL NO':4546,\n",
    "   'MARKS':{'M1':4532,'DS':76,'MD':45}\n",
    "  }\n",
    "print(d)"
   ]
  },
  {
   "cell_type": "code",
   "execution_count": 104,
   "id": "84f028cb",
   "metadata": {},
   "outputs": [
    {
     "name": "stdout",
     "output_type": "stream",
     "text": [
      "{'NAME': 'shekhar', 'GENDER': 'MALE', 'ROLL NO': 4546, 'MARKS': {'M1': 4532, 'DS': 76, 'MD': 45}}\n",
      "{'NAME': 'shekhar', 'GENDER': 'MALE', 'ROLL NO': 4546}\n"
     ]
    }
   ],
   "source": [
    "d={'NAME':\"shekhar\",\n",
    "   'GENDER':'MALE',\n",
    "   'ROLL NO':4546,\n",
    "   'MARKS':{'M1':4532,'DS':76,'MD':45}\n",
    "  }\n",
    "print(d)\n",
    "d.pop('MARKS')\n",
    "print(d)"
   ]
  },
  {
   "cell_type": "markdown",
   "id": "fb765071",
   "metadata": {},
   "source": [
    "# Function"
   ]
  },
  {
   "cell_type": "raw",
   "id": "6713b9d9",
   "metadata": {},
   "source": [
    "In Python, a function is a block of reusable code that performs a specific task or set of tasks. Functions allow you to organize code into logical and modular units, making it easier to manage, understand, and reuse. Functions can take input parameters, perform actions, and return results"
   ]
  },
  {
   "cell_type": "raw",
   "id": "f9c76f97",
   "metadata": {},
   "source": [
    "# A function is a block of stetament which can be used repetivily in a program.it save the time of a devloper.in python of function is same as in other languages"
   ]
  },
  {
   "cell_type": "code",
   "execution_count": 105,
   "id": "c07e3072",
   "metadata": {},
   "outputs": [
    {
     "name": "stdout",
     "output_type": "stream",
     "text": [
      "enter a:34\n",
      "enter b:45\n",
      "add= 79\n"
     ]
    }
   ],
   "source": [
    "def add(x,y):\n",
    "    return x+y\n",
    "a=int(input(\"enter a:\"))\n",
    "b=int(input(\"enter b:\"))\n",
    "print(\"add=\",add(a,b))"
   ]
  },
  {
   "cell_type": "code",
   "execution_count": 106,
   "id": "9091864f",
   "metadata": {},
   "outputs": [
    {
     "name": "stdout",
     "output_type": "stream",
     "text": [
      "110\n"
     ]
    }
   ],
   "source": [
    "def add():\n",
    "    x=45\n",
    "    y=65\n",
    "    z=x+y\n",
    "    print(z)\n",
    "add()"
   ]
  },
  {
   "cell_type": "code",
   "execution_count": 110,
   "id": "75cd3a80",
   "metadata": {},
   "outputs": [
    {
     "data": {
      "text/plain": [
       "80"
      ]
     },
     "execution_count": 110,
     "metadata": {},
     "output_type": "execute_result"
    }
   ],
   "source": [
    "def add():\n",
    "    a=34\n",
    "    b=46\n",
    "    c=a+b\n",
    "    return(c)\n",
    "add()"
   ]
  },
  {
   "cell_type": "code",
   "execution_count": 107,
   "id": "751ff7ca",
   "metadata": {},
   "outputs": [
    {
     "name": "stdout",
     "output_type": "stream",
     "text": [
      "4\n"
     ]
    }
   ],
   "source": [
    "def add(a,b):\n",
    "    c=(a+b)\n",
    "    print(c)\n",
    "add(1,3)"
   ]
  },
  {
   "cell_type": "code",
   "execution_count": 108,
   "id": "fbaa2939",
   "metadata": {},
   "outputs": [
    {
     "name": "stdout",
     "output_type": "stream",
     "text": [
      "shekhar\n"
     ]
    }
   ],
   "source": [
    "def showdata():\n",
    "    print(\"shekhar\")\n",
    "showdata()\n",
    "    "
   ]
  },
  {
   "cell_type": "code",
   "execution_count": 111,
   "id": "3be7ec42",
   "metadata": {},
   "outputs": [
    {
     "data": {
      "text/plain": [
       "134"
      ]
     },
     "execution_count": 111,
     "metadata": {},
     "output_type": "execute_result"
    }
   ],
   "source": [
    "#default arg\n",
    "\n",
    "def add(x,y=89):\n",
    "    z=x+y\n",
    "    return(z)\n",
    "add(45)"
   ]
  },
  {
   "cell_type": "code",
   "execution_count": 109,
   "id": "65e1ebd0",
   "metadata": {},
   "outputs": [
    {
     "data": {
      "text/plain": [
       "88"
      ]
     },
     "execution_count": 109,
     "metadata": {},
     "output_type": "execute_result"
    }
   ],
   "source": [
    "def add(x,y):\n",
    "    z=x+y\n",
    "    return(z)\n",
    "add(34,54)"
   ]
  },
  {
   "cell_type": "code",
   "execution_count": 112,
   "id": "2f557976",
   "metadata": {},
   "outputs": [
    {
     "data": {
      "text/plain": [
       "208"
      ]
     },
     "execution_count": 112,
     "metadata": {},
     "output_type": "execute_result"
    }
   ],
   "source": [
    "def add(x=54,y=465,z=456):\n",
    "    c=x+y+z\n",
    "    return(c)\n",
    "add(45,76,87)"
   ]
  },
  {
   "cell_type": "code",
   "execution_count": 113,
   "id": "cfba59c8",
   "metadata": {},
   "outputs": [
    {
     "data": {
      "text/plain": [
       "90"
      ]
     },
     "execution_count": 113,
     "metadata": {},
     "output_type": "execute_result"
    }
   ],
   "source": [
    "def func(a,b):\n",
    "    c=a+b\n",
    "    return(c)\n",
    "func(34,56)"
   ]
  },
  {
   "cell_type": "code",
   "execution_count": 114,
   "id": "409ed5af",
   "metadata": {},
   "outputs": [
    {
     "data": {
      "text/plain": [
       "(25, 10)"
      ]
     },
     "execution_count": 114,
     "metadata": {},
     "output_type": "execute_result"
    }
   ],
   "source": [
    "def square(x):\n",
    "    return x*x,x*2\n",
    "square(5)"
   ]
  },
  {
   "cell_type": "code",
   "execution_count": 115,
   "id": "7a2558df",
   "metadata": {},
   "outputs": [],
   "source": [
    "def multiply(*args):\n",
    "    product=1\n",
    "    for i in args:\n",
    "        product=product* i\n",
    "        \n",
    "    print( args)\n",
    "    return product"
   ]
  },
  {
   "cell_type": "code",
   "execution_count": 116,
   "id": "9d22112d",
   "metadata": {},
   "outputs": [
    {
     "name": "stdout",
     "output_type": "stream",
     "text": [
      "(2, 4, 3, 6, 5, 87)\n"
     ]
    },
    {
     "data": {
      "text/plain": [
       "62640"
      ]
     },
     "execution_count": 116,
     "metadata": {},
     "output_type": "execute_result"
    }
   ],
   "source": [
    "multiply(2,4,3,6,5,87)"
   ]
  },
  {
   "cell_type": "raw",
   "id": "a157d9cc",
   "metadata": {},
   "source": [
    "Kwargs\n",
    "       allows us to pass any number of keyword argument\n",
    "       keyword argument mean that contain a key-value pair, like a python \n",
    "       dectionary"
   ]
  },
  {
   "cell_type": "code",
   "execution_count": 117,
   "id": "0f10ee59",
   "metadata": {},
   "outputs": [],
   "source": [
    "def display(**kwargs):\n",
    "    \n",
    "    for (key,value)in kwargs.items():\n",
    "        print(key,'->',value)    "
   ]
  },
  {
   "cell_type": "code",
   "execution_count": 118,
   "id": "35f464ef",
   "metadata": {},
   "outputs": [
    {
     "name": "stdout",
     "output_type": "stream",
     "text": [
      "india -> delhi\n",
      "srilanka -> colomo\n",
      "nepal -> kathmandu\n"
     ]
    }
   ],
   "source": [
    "display(india= 'delhi',srilanka='colomo', nepal='kathmandu')"
   ]
  },
  {
   "cell_type": "code",
   "execution_count": null,
   "id": "3398ea16",
   "metadata": {},
   "outputs": [],
   "source": []
  }
 ],
 "metadata": {
  "kernelspec": {
   "display_name": "Python 3 (ipykernel)",
   "language": "python",
   "name": "python3"
  },
  "language_info": {
   "codemirror_mode": {
    "name": "ipython",
    "version": 3
   },
   "file_extension": ".py",
   "mimetype": "text/x-python",
   "name": "python",
   "nbconvert_exporter": "python",
   "pygments_lexer": "ipython3",
   "version": "3.9.13"
  }
 },
 "nbformat": 4,
 "nbformat_minor": 5
}
