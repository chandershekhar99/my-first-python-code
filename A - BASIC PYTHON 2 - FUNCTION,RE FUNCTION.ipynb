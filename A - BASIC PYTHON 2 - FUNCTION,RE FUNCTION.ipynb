{
 "cells": [
  {
   "cell_type": "markdown",
   "id": "d3502546",
   "metadata": {},
   "source": [
    "\n",
    "# function"
   ]
  },
  {
   "cell_type": "markdown",
   "id": "ff4ee65d",
   "metadata": {},
   "source": [
    "# Rag Ex= raguler exprassion "
   ]
  },
  {
   "cell_type": "code",
   "execution_count": 1,
   "id": "69e0a401",
   "metadata": {},
   "outputs": [
    {
     "data": {
      "text/plain": [
       "<re.Match object; span=(8, 9), match='i'>"
      ]
     },
     "execution_count": 1,
     "metadata": {},
     "output_type": "execute_result"
    }
   ],
   "source": [
    "import re\n",
    "a=\"hello friends i am student of computer branch\"\n",
    "re.search(\"i\",a)"
   ]
  },
  {
   "cell_type": "code",
   "execution_count": 2,
   "id": "6b0e7188",
   "metadata": {},
   "outputs": [
    {
     "data": {
      "text/plain": [
       "['e', 'e', 'e', 'e', 'e']"
      ]
     },
     "execution_count": 2,
     "metadata": {},
     "output_type": "execute_result"
    }
   ],
   "source": [
    "a=\"hello friend i am studene of computer branch\"\n",
    "re.findall(\"e\",a)"
   ]
  },
  {
   "cell_type": "code",
   "execution_count": 3,
   "id": "d061879a",
   "metadata": {},
   "outputs": [
    {
     "data": {
      "text/plain": [
       "'hello frtend t am studene of computer branch'"
      ]
     },
     "execution_count": 3,
     "metadata": {},
     "output_type": "execute_result"
    }
   ],
   "source": [
    "re.sub(\"i\",\"t\",a)"
   ]
  },
  {
   "cell_type": "code",
   "execution_count": 4,
   "id": "968eb1de",
   "metadata": {},
   "outputs": [
    {
     "data": {
      "text/plain": [
       "'hello frtend t am studene of computer branch'"
      ]
     },
     "execution_count": 4,
     "metadata": {},
     "output_type": "execute_result"
    }
   ],
   "source": [
    "re.sub(\"i\",\"t\",a)"
   ]
  },
  {
   "cell_type": "code",
   "execution_count": 5,
   "id": "954de84e",
   "metadata": {},
   "outputs": [
    {
     "data": {
      "text/plain": [
       "['banana', 'apple', 'mango', 'aman']"
      ]
     },
     "execution_count": 5,
     "metadata": {},
     "output_type": "execute_result"
    }
   ],
   "source": [
    "a=[\"banana\",\"apple\",\"mango\",\"aman\"]\n",
    "a"
   ]
  },
  {
   "cell_type": "code",
   "execution_count": 6,
   "id": "34fbc5c9",
   "metadata": {},
   "outputs": [
    {
     "name": "stdout",
     "output_type": "stream",
     "text": [
      "school jana hai\n"
     ]
    }
   ],
   "source": [
    "a = (\"monday\")\n",
    "if a==\"monday\":\n",
    "    print(\"school jana hai\")\n",
    "else:\n",
    "    print(\"today is hollyday\")\n",
    "    "
   ]
  },
  {
   "cell_type": "code",
   "execution_count": null,
   "id": "c45c4a80",
   "metadata": {},
   "outputs": [],
   "source": []
  },
  {
   "cell_type": "code",
   "execution_count": null,
   "id": "46a8104f",
   "metadata": {},
   "outputs": [],
   "source": []
  }
 ],
 "metadata": {
  "kernelspec": {
   "display_name": "Python 3 (ipykernel)",
   "language": "python",
   "name": "python3"
  },
  "language_info": {
   "codemirror_mode": {
    "name": "ipython",
    "version": 3
   },
   "file_extension": ".py",
   "mimetype": "text/x-python",
   "name": "python",
   "nbconvert_exporter": "python",
   "pygments_lexer": "ipython3",
   "version": "3.9.13"
  }
 },
 "nbformat": 4,
 "nbformat_minor": 5
}
