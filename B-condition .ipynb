{
 "cells": [
  {
   "cell_type": "markdown",
   "id": "81381881",
   "metadata": {},
   "source": [
    "if condition"
   ]
  },
  {
   "cell_type": "markdown",
   "id": "3a6b5f5b",
   "metadata": {},
   "source": [
    "THE if statement is used to test  a specific condition. if condition is true,\n",
    "a block ofcode(if- block) will be executed"
   ]
  },
  {
   "cell_type": "code",
   "execution_count": 1,
   "id": "7df8d730",
   "metadata": {},
   "outputs": [
    {
     "name": "stdout",
     "output_type": "stream",
     "text": [
      "enter the number20\n",
      "number is even\n"
     ]
    }
   ],
   "source": [
    "num=int(input(\"enter the number\"))\n",
    "if num%2==0:\n",
    "    print(\"number is even\")"
   ]
  },
  {
   "cell_type": "code",
   "execution_count": 7,
   "id": "bd910ad2",
   "metadata": {},
   "outputs": [
    {
     "name": "stdout",
     "output_type": "stream",
     "text": [
      "not valiad\n"
     ]
    }
   ],
   "source": [
    "a=7\n",
    "b=95\n",
    "c=48\n",
    "if a<b and a>c:\n",
    "    print(\"A\")\n",
    "if b>a and a>c:\n",
    "    print(\"B\")\n",
    "if c>a and c>b:\n",
    "    print(\"C\")\n",
    "else:\n",
    "    print(\"not valiad\")"
   ]
  },
  {
   "cell_type": "code",
   "execution_count": 5,
   "id": "c4f6b937",
   "metadata": {},
   "outputs": [
    {
     "name": "stdout",
     "output_type": "stream",
     "text": [
      "enter the age=24\n",
      "you are eligible to vote!!\n"
     ]
    }
   ],
   "source": [
    "age=int(input(\"enter the age=\"))\n",
    "if age>=20:\n",
    "    print(\"you are eligible to vote!!\")\n",
    "else:\n",
    "    peint(\"Sorry! you have to wait\")"
   ]
  },
  {
   "cell_type": "code",
   "execution_count": 9,
   "id": "6e9728dd",
   "metadata": {},
   "outputs": [
    {
     "name": "stdout",
     "output_type": "stream",
     "text": [
      "enter the number?10\n",
      "number is even..?\n"
     ]
    }
   ],
   "source": [
    "num=int(input(\"enter the number?\"))\n",
    "if num%2==0:\n",
    "    print(\"number is even..?\")\n",
    "else:\n",
    "    print(\"number is odd..?\")\n",
    "    "
   ]
  },
  {
   "cell_type": "code",
   "execution_count": 12,
   "id": "1809c7c5",
   "metadata": {},
   "outputs": [
    {
     "name": "stdout",
     "output_type": "stream",
     "text": [
      "enter the value:12\n",
      "Area of circle is 452.3893421169302\n"
     ]
    }
   ],
   "source": [
    "import math\n",
    "radius=float(input(\"enter the value:\"))\n",
    "if (radius>0):\n",
    "    area=math.pi*radius*radius\n",
    "    print(\"Area of circle is\",area)\n",
    "else:\n",
    "    print(\"cannot find the area of the circle\")"
   ]
  },
  {
   "cell_type": "code",
   "execution_count": 13,
   "id": "5f202e89",
   "metadata": {},
   "outputs": [
    {
     "data": {
      "text/plain": [
       "'area of the square'"
      ]
     },
     "execution_count": 13,
     "metadata": {},
     "output_type": "execute_result"
    }
   ],
   "source": [
    "#area of the square#\n",
    "side"
   ]
  },
  {
   "cell_type": "code",
   "execution_count": null,
   "id": "6149c417",
   "metadata": {},
   "outputs": [],
   "source": []
  }
 ],
 "metadata": {
  "kernelspec": {
   "display_name": "Python 3 (ipykernel)",
   "language": "python",
   "name": "python3"
  },
  "language_info": {
   "codemirror_mode": {
    "name": "ipython",
    "version": 3
   },
   "file_extension": ".py",
   "mimetype": "text/x-python",
   "name": "python",
   "nbconvert_exporter": "python",
   "pygments_lexer": "ipython3",
   "version": "3.9.13"
  }
 },
 "nbformat": 4,
 "nbformat_minor": 5
}
